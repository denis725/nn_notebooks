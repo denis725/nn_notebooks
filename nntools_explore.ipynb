{
 "metadata": {
  "name": "",
  "signature": "sha256:51b60697bcf16a26cb9265e4d53a50b7c82e03d96bfa6d9339333d2c848678fb"
 },
 "nbformat": 3,
 "nbformat_minor": 0,
 "worksheets": [
  {
   "cells": [
    {
     "cell_type": "heading",
     "level": 1,
     "metadata": {},
     "source": [
      "Cifar"
     ]
    },
    {
     "cell_type": "heading",
     "level": 2,
     "metadata": {},
     "source": [
      "imports"
     ]
    },
    {
     "cell_type": "code",
     "collapsed": false,
     "input": [
      "import pandas as pd\n",
      "import numpy as np\n",
      "from PIL import Image\n",
      "import matplotlib.pyplot as plt"
     ],
     "language": "python",
     "metadata": {},
     "outputs": [],
     "prompt_number": 1
    },
    {
     "cell_type": "code",
     "collapsed": false,
     "input": [
      "%pylab inline\n",
      "pd.options.display.mpl_style = 'default'"
     ],
     "language": "python",
     "metadata": {},
     "outputs": [
      {
       "output_type": "stream",
       "stream": "stdout",
       "text": [
        "Populating the interactive namespace from numpy and matplotlib\n"
       ]
      }
     ],
     "prompt_number": 25
    },
    {
     "cell_type": "code",
     "collapsed": false,
     "input": [
      "from nolearn.nntools import NeuralNet\n",
      "from nolearn.nntools import BatchIterator\n",
      "from nolearn.nntools import FlipBatchIterator\n",
      "from nolearn.nntools import LabelEncoder\n",
      "from nntools import layers\n",
      "from theano.tensor.nnet import softmax\n",
      "from skimage.color import rgb2gray"
     ],
     "language": "python",
     "metadata": {},
     "outputs": [],
     "prompt_number": 2
    },
    {
     "cell_type": "heading",
     "level": 2,
     "metadata": {},
     "source": [
      "constants"
     ]
    },
    {
     "cell_type": "code",
     "collapsed": false,
     "input": [
      "fsize = (2, 2)"
     ],
     "language": "python",
     "metadata": {},
     "outputs": [],
     "prompt_number": 24
    },
    {
     "cell_type": "heading",
     "level": 2,
     "metadata": {},
     "source": [
      "callback function"
     ]
    },
    {
     "cell_type": "code",
     "collapsed": false,
     "input": [
      "class PlotLoss(object):\n",
      "    def __init__(self, figsize=(8, 5), title=None, update_every=20):\n",
      "        self.figsize = figsize\n",
      "        self.title = title\n",
      "        self.update_every = update_every\n",
      "        self._fig_is_init = False\n",
      "        plt.ion()\n",
      "        \n",
      "    def _init_fig(self, nn, train_loss, valid_loss):\n",
      "        fig, ax = plt.subplots(figsize=self.figsize)\n",
      "\n",
      "        plt.xlabel(\"epochs\")\n",
      "        plt.ylabel(\"loss function\")\n",
      "        plt.grid()\n",
      "\n",
      "        # fixed scale for axes\n",
      "        max_epochs = nn.get_params()['max_epochs']\n",
      "        plt.xlim([0.5, max_epochs + 0.5])\n",
      "        plt.ylim([0, 1.2 * max(max(train_loss), max(valid_loss))])\n",
      "\n",
      "        if self.title:\n",
      "            plt.title(self.title)\n",
      "        else:\n",
      "            plt.title(str(nn).split('(')[0])\n",
      "        return fig, ax\n",
      "\n",
      "    def __call__(self, nn, train_history):\n",
      "        train_loss = [info['train_loss'] for info in train_history]\n",
      "        valid_loss = [info['valid_loss'] for info in train_history]\n",
      "\n",
      "        n_epochs = len(train_loss)\n",
      "        if n_epochs % self.update_every != 0:\n",
      "            return\n",
      "\n",
      "        if not self._fig_is_init:\n",
      "            fig, ax = self._init_fig(nn, train_loss, valid_loss)        \n",
      "\n",
      "        # Plot train and validation loss curves\n",
      "        x = range(1, n_epochs + 1)\n",
      "        plt.plot(x, train_loss, color='b', label='train')\n",
      "        plt.plot(x, valid_loss, color='r', label='valid')\n",
      "\n",
      "        # Place a marker whenever there was a new best valid loss:\n",
      "        for i in range(n_epochs):\n",
      "            if i == 0:\n",
      "                continue\n",
      "            if valid_loss[i] < min(valid_loss[:i]):\n",
      "                plt.plot([i + 1], [valid_loss[i]],\n",
      "                         c='k', ms=8, marker='x')\n",
      "        \n",
      "        if not self._fig_is_init:\n",
      "            plt.legend()\n",
      "            self._fig_is_init = True\n",
      "        plt.pause(0.0001)"
     ],
     "language": "python",
     "metadata": {},
     "outputs": [],
     "prompt_number": 142
    },
    {
     "cell_type": "code",
     "collapsed": false,
     "input": [
      "class PlotWeights(object):\n",
      "    def __init__(self, update_every=1, img_x=None, img_y=None, nrows=5, ncols=5, figsize=(8, 8)):\n",
      "        self.update_every = update_every\n",
      "        self.img_x = img_x\n",
      "        self.img_y = img_y\n",
      "        self.nrows = nrows\n",
      "        self.ncols = ncols\n",
      "        self.figsize = figsize\n",
      "        plt.ion()\n",
      "        self._fig_is_init = False\n",
      "        \n",
      "    def _init_fig(self, arr):\n",
      "        # weight dimensions\n",
      "        dim_img_flat, num_units = arr.shape\n",
      "        \n",
      "        # validate image dimensions\n",
      "        if (self.img_x is None) and (self.img_y is None):\n",
      "            # if dimensions not indicated, guess flat image\n",
      "            img_x = int(np.sqrt(dim_img_flat))\n",
      "            img_y = img_x\n",
      "        elif (self.img_x is None) and (self.img_y is not None):\n",
      "            img_y = self.img_y\n",
      "            img_x = dim_img_flat / img_y\n",
      "        elif (self.img_x is not None) and (self.img_y is None):\n",
      "            img_x = self.img_x\n",
      "            img_y = dim_img_flat / img_x\n",
      "        else:\n",
      "            img_x, img_y = self.img_x, self.img_y\n",
      "        self.dim_x = img_x\n",
      "        self.dim_y = img_y\n",
      "        \n",
      "        # validate number of units\n",
      "        if self.nrows * self.ncols > num_units:\n",
      "            raise ValueError(\"Cannot display {}x{} units with only {} units.\".format(\n",
      "                self.nrows, self.ncols, num_units))\n",
      "        \n",
      "        # initialize figure\n",
      "        fig, axes = plt.subplots(nrows=self.nrows, ncols=self.ncols,\n",
      "                                 figsize=self.figsize)\n",
      "        plt.xlabel(\"\")\n",
      "        plt.ylabel(\"\")\n",
      "        for i in range(self.nrows):\n",
      "            for j in range(self.ncols):\n",
      "                # remove ticks\n",
      "                axes[i][j].set_xticks([])\n",
      "                axes[i][j].set_yticks([])\n",
      "\n",
      "        fig.subplots_adjust(\n",
      "            left=0, right=1, bottom=0, top=1, hspace=0.05, wspace=0.05)\n",
      "        self.fig = fig\n",
      "        self.axes = axes\n",
      "        return self\n",
      "\n",
      "    def __call__(self, nn, train_history):\n",
      "        if len(train_history) % self.update_every != 0:\n",
      "            return\n",
      "\n",
      "        arr = nn.get_all_params()[1].get_value()\n",
      "        \n",
      "        if not self._fig_is_init:\n",
      "            self._init_fig(arr)\n",
      "            self._fig_is_init = True\n",
      "        fig, axes = self.fig, self.axes\n",
      "        \n",
      "        for i in range(self.nrows):\n",
      "            for j in range(self.ncols):\n",
      "                img = arr[:, i + self.nrows * j].reshape(self.dim_y, self.dim_x)\n",
      "                axes[i][j].imshow(img, interpolation='nearest', cmap=plt.get_cmap('gray'))\n",
      "\n",
      "        plt.pause(0.0001)"
     ],
     "language": "python",
     "metadata": {},
     "outputs": [],
     "prompt_number": 245
    },
    {
     "cell_type": "heading",
     "level": 2,
     "metadata": {},
     "source": [
      "load and prepare data"
     ]
    },
    {
     "cell_type": "code",
     "collapsed": false,
     "input": [
      "filepath = '../data/cifar/train/'\n",
      "filelabels = '../data/cifar/trainLabels.csv'"
     ],
     "language": "python",
     "metadata": {},
     "outputs": [],
     "prompt_number": 5
    },
    {
     "cell_type": "code",
     "collapsed": false,
     "input": [
      "df_labels = pd.read_csv(filelabels, index_col=0)"
     ],
     "language": "python",
     "metadata": {},
     "outputs": [],
     "prompt_number": 6
    },
    {
     "cell_type": "code",
     "collapsed": false,
     "input": [
      "df_labels['idx'] = np.array(df_labels.index) - 1\n",
      "df_labels.set_index('idx', drop=True, inplace=True)"
     ],
     "language": "python",
     "metadata": {},
     "outputs": [],
     "prompt_number": 7
    },
    {
     "cell_type": "code",
     "collapsed": false,
     "input": [
      "encoder = LabelEncoder()"
     ],
     "language": "python",
     "metadata": {},
     "outputs": [],
     "prompt_number": 8
    },
    {
     "cell_type": "code",
     "collapsed": false,
     "input": [
      "def load_images(n=50000, grayscale=True):\n",
      "    X = np.zeros((n, 32, 32))\n",
      "    for i in range(n):\n",
      "        img = Image.open('{}{}.png'.format(filepath, i + 1))\n",
      "        if grayscale:\n",
      "            X[i] = rgb2gray(np.array(img))\n",
      "        else:\n",
      "            X[i] = np.array(img)\n",
      "    return X"
     ],
     "language": "python",
     "metadata": {},
     "outputs": [],
     "prompt_number": 9
    },
    {
     "cell_type": "code",
     "collapsed": false,
     "input": [
      "%time X = load_images()\n",
      "y = encoder.fit_transform(df_labels.values.reshape(-1))"
     ],
     "language": "python",
     "metadata": {},
     "outputs": [
      {
       "output_type": "stream",
       "stream": "stdout",
       "text": [
        "CPU times: user 3min 14s, sys: 7.02 s, total: 3min 21s\n",
        "Wall time: 16.8 s\n"
       ]
      }
     ],
     "prompt_number": 10
    },
    {
     "cell_type": "code",
     "collapsed": false,
     "input": [
      "X = X.astype(np.float32)"
     ],
     "language": "python",
     "metadata": {},
     "outputs": [],
     "prompt_number": 11
    },
    {
     "cell_type": "code",
     "collapsed": false,
     "input": [
      "X_flat = X.reshape(-1, 32 * 32)"
     ],
     "language": "python",
     "metadata": {},
     "outputs": [],
     "prompt_number": 12
    },
    {
     "cell_type": "heading",
     "level": 2,
     "metadata": {},
     "source": [
      "Show some images"
     ]
    },
    {
     "cell_type": "code",
     "collapsed": false,
     "input": [
      "def plot_cifar(data, labels=None):\n",
      "    plt.figure(figsize=fsize)\n",
      "    plt.imshow(data, cmap=plt.get_cmap('gray'), interpolation='bessel')\n",
      "    if labels is None:\n",
      "        plt.title(df_labels.ix[i])\n",
      "    else:\n",
      "        if not isinstance(labels[i], tuple):\n",
      "            plt.title(labels[i])\n",
      "        else:\n",
      "            plt.title(\"pred: {}, true: {}\".format(*labels[i]))\n",
      "    plt.xticks([])\n",
      "    plt.yticks([])"
     ],
     "language": "python",
     "metadata": {},
     "outputs": [],
     "prompt_number": 26
    },
    {
     "cell_type": "code",
     "collapsed": false,
     "input": [
      "for i in range(5):\n",
      "    plot_cifar(X[i])\n",
      "    plt.show()"
     ],
     "language": "python",
     "metadata": {},
     "outputs": [
      {
       "output_type": "stream",
       "stream": "stderr",
       "text": [
        "/home/bbossan_dev/anaconda/envs/nntools/lib/python2.7/site-packages/matplotlib/font_manager.py:1279: UserWarning: findfont: Font family ['monospace'] not found. Falling back to Bitstream Vera Sans\n",
        "  (prop.get_family(), self.defaultFamily[fontext]))\n"
       ]
      },
      {
       "metadata": {},
       "output_type": "display_data",
       "png": "iVBORw0KGgoAAAANSUhEUgAAALIAAACeCAYAAACW5FAlAAAABHNCSVQICAgIfAhkiAAAAAlwSFlz\nAAALEgAACxIB0t1+/AAAIABJREFUeJztfWuQXNV19eru6efM9GjQSCKRkBCISEIKIgkIjLEeGJEC\nUpWQpIhTCUGxLUNihxgntjDmYdkWkFCUC9mODYFgAo7KVcR2BQoXxkTI4BAkArIDRCAJJIwTFL2l\nefTM9Mz+fvCtO+vuPnc0fEjM9Xy9q7r6de+5556zzj5rP865GTMzNKUpv+CSHe8KNKUpx0KaQG7K\nhJAmkJsyIaQJ5KZMCGkCuSkTQppAbsqEkAkD5JUrV2LFihXv6JyTTz4Za9eufdfXPlblhOTJJ5/E\nwoULUSgUcMEFFxyXa0wEaRnvChwryWQyyGQyx/2c41lOSP7sz/4M55xzDh577DG0trYel2tMBJkw\nGtnMMNFiO2aG7du348ILL8T06dMxadKk4HH1ev09rln6ZMIA2cvzzz+Piy++GNOmTUN7ezsWL16M\nxx57rOG43t5efPSjH0VHRwemTJmCz33uc7EBMTg4iM9//vM45ZRTUC6XsXDhQtx9993Hvf5PPvkk\ncrkchoaG8Cd/8ifIZrP4x3/8Rzz55JPIZrN49NFHcf7556NcLuPee+9FvV7HddddhxkzZqBYLGLB\nggVYv359rMzXX38dF110EcrlMk4++WTcddddWLZsGVatWnXc7+e4i00QufLKK+3CCy+Mvj/55JN2\n//3328svv2zbtm2zG264wQqFgr366qvRMbNmzbJqtWo333yzvfrqq/bAAw9Ya2ur3XnnnbFyFy1a\nZI8//rjt3LnTvv3tb9ukSZPs3nvvjY45+eSTbe3atcf0fgYGBuytt96yTCZjf/d3f2e7d++2vr4+\n27Bhg2UyGZs3b5498sgjtnPnTnvzzTftr//6r23y5Mn20EMP2bZt2+yWW26xbDZrTzzxhJmZDQ8P\n26JFi+zcc8+1zZs325YtW+ySSy6xjo4OW7Vq1TGt+3jIhAVySBYtWhQD3KxZs2zJkiWxY66//no7\n6aSTzMzstddes2w2a6+88krsmDVr1tiZZ54ZfT8eQKZkMhn71re+FX0nkB988MHot56eHisWi/b1\nr389du5ll11mF1xwgZmZ/eAHP7BMJmM7duyI/t+/f79VKpUJAeQJY+x52bNnD26++WZs2LABb731\nFur1Omq1Gt54443omEwmg/e9732x88477zzceuut6O7uxnPPPQczw2/8xm/EjqnX62hpGd+mW7x4\ncfR5+/btGBgYwJIlS2LHLFmyBLfddhsA4OWXX0ZXVxdOOeWU6P/Ozk7MnTv3vanwcZYJC+SVK1fi\nzTffxO23347Zs2ejVCrhQx/6EAYGBsZcxvDwMADgmWeeQaVSif13vLwUY5X/Fw9GqM42QQzkCWvs\nPfXUU/jzP/9z/NZv/RYWLFiAE088ETt27IgdY2Z45plnYr/927/9G2bMmIG2trZIE+/atQunnHJK\n7DV79uz37F6OJnPmzEGxWMTGjRtjv2/cuBG/+qu/CgA4/fTTsWfPHrz22mvR/wcOHMCrr776ntb1\neMmE1chz587Fgw8+iPe///2o1+u46aabMDw83KCBtmzZgjVr1uAP//AP8dxzz2HdunX40pe+BOBt\ngHz4wx/GqlWr8Ld/+7c499xz0dPTg//4j//A3r178ZnPfAbA+Gu1SqWCa665BjfeeCOmTJmCM844\nAw899BD+5V/+BT/84Q8BACtWrMCiRYtwxRVX4M4770Q+n8fnPvc55PP5cZ9djoVMGCD7oMR9992H\nq666CosXL8aJJ56Iz3zmM+jr64sdk8lkcM0112DXrl04++yzUSgU8Bd/8Re45ppromPuvvtu3HHH\nHVi7di1ee+01VKtVLFy4EJ/4xCdi5byXErre2rVrkc1m8clPfhJ79uzBaaedhm9961tYvnx5dMx3\nv/tdfOxjH8MHPvABTJ06Fddddx327NmDUqn0Xlb/uEjGxludNGXc5MiRI5gxYwZuueUWfPzjHx/v\n6rwrmTAauSlHl4cffhi5XA7z58/H//7v/2LNmjXI5XK4/PLLx7tq71qaQP7/SHp7e/GFL3wBO3fu\nRGtrK8466yw8/fTTmDJlynhX7V1Lk1o0ZULIhHW/NeX/L2kC+RjKhEnAcTKW+/p/yQc/lnJUIK9c\nuRLZbBarV6+O/f7mm28im83iRz/60XGr3PGQI0eOYNWqVejq6kJbWxsuueSSWJDg3Yh3Ac6ZMwdr\n1qw5JmWPp4wl3/orX/kKHnrooWN63XfSfkcFciaTQalUwrp162J5Cr+ocsUVV2DDhg3453/+Zzz9\n9NMwM6xYsQK1Wu2YX2siBBrGKu3t7ejo6DimZb6j9jtaVtHKlSvtgx/8oJ1zzjn2R3/0R9HvP/vZ\nzyyTydjGjRuj366//nqbP3++VSoVO+mkk+zqq6+2Q4cORf/fd9991tLSYhs2bLCFCxdauVy25cuX\n2//8z//Yv/7rv9qiRYustbXVLrzwQvv5z38eq8cPfvADO++886xcLtv06dPtT//0T23fvn3vKEPq\nlVdesUwmY48//nj024EDB6xYLNo3v/nNd1TWzp077Td/8zetXC7bSSedZOvWrbNly5ZFmWRLly61\nTCYTvbLZrL3++us2e/Zsu+WWW2JldXd3W3t7e5TRtnTpUvvwhz9sq1evtq6uLqtWq/axj33MarVa\n7Lx169bZ3LlzrVQq2WmnnWZr1661er3+ju7DzOyb3/ymzZ8/3wqFgs2YMcNuuOGGWDnLli07an1C\n2Yfr16+3RYsWWalUspNPPtk+9alPWU9PT+yYr371qzZ//nwrFos2depU+73f+71g+2UyGdu1a1fi\nPRwVyKzgU089Zdls1p577jkzCwP5S1/6kj399NO2a9cue+KJJ2zevHl25ZVXRv/fd999ls1mbfny\n5bZp0yZ7/vnn7bTTTrPzzz/flixZYs8++6xt2bLF5s2bZ3/wB38QnffEE09YpVKxr371q7Z9+3bb\nvHmzLV++3JYuXRodw/RGrY+Xf/iHf7BCoWDDw8Ox3z/wgQ/YRz/60aM1RSTDw8P2a7/2a7Z48WLb\ntGmTbdmyxVasWGHVajUC8v79+2327Nn26U9/2nbv3m27d++2oaEhu/XWW+3UU0+NlXfPPffY5MmT\nrb+/38ze7kSCZevWrfbwww/b1KlT7dprr43Oufnmm23WrFn2ve99z3bu3GmPPvqozZw502688cbY\nMZlMZtR7eeSRRyyXy9ltt91m27Zts29/+9vW2dkZK2cs9Vm5cqWtWLEi+n7fffdZZ2enPfjgg/b6\n66/bj370IzvjjDPsiiuuiI656aabrK2tzb72ta/Ztm3bbMuWLXbrrbeO2n5JMiYgs4KXXXaZLVu2\nzMzCQPbyne98x4rFYuzmMpmM/eQnP4l+u/322y2Tydjzzz8f/fblL3/Zurq6ou9Lly61z372s7Gy\nd+3aZZlMxrZs2WJmZps2bbL58+fb5s2bE+uzdu1a++Vf/uWG33//93/fLr300sTzvDz++OOWyWRs\n27Zt0W979uyxcrkcy+2dM2eOrVmzJnbu7t27rVAo2A9/+MPot3PPPdc++clPRt+XLl1qs2fPjg24\nu+++20qlkvX29lpPT49VKhV77LHHYmXff//9NmnSpOg7td1ocv7558eUhpnZnXfeaeVy2QYHB8dU\nH7NGjTxr1iy76667YuVu3LjRMpmMHTx40Lq7u61UKtkdd9yRWLdQ+yXJmLwW9n9dzX/zN3+DH//4\nx3j44YeDx33nO9/BkiVLMH36dLS3t+OP//iPMTg4iLfeeivGe5iRBQDTpk0DAJxxxhmx3/bt2xdd\nd/Pmzfjyl7+M9vb26LVgwQJkMhls374dAHD22Wfj5ZdfxllnnTV2XiXyTvgYc3vnzJkT/dbV1TWm\n3N6pU6fit3/7t/H3f//3AIAXX3wRzz77bINXYPHixbE6nXfeeejv78eOHTvw0ksvoa+vD7/7u78b\na5Orr74ahw8fxr59+wAAH//4x/Hyyy8f9V5Cecy1Wi2WLThafbzs2bMHb7zxBq699tpY/S655JKo\nz1566SX09/fjoosuOmqbjUXeUWTvtNNOw1VXXYXVq1fj+9//fuy/Z599Fpdffjmuv/563HHHHejs\n7MQzzzyDK6+8MpYDnM1mGxJ3ACCXyzX8ZmbIZDIwM1x33XW44oorGurEgTAW+aVf+iXs3bs3Kpey\ne/duzJs3b8zlJImNMbZ09dVX45JLLsG+fftwzz334LzzzsPpp58+5rKYJ/3QQw/hV37lVxr+7+zs\nfAe1HpuM9d6AkfqtW7culrREmT59On7yk58cs7oBY/Qja6fffPPN+O///m/cddddsWOefvppdHV1\n4Qtf+ALOPvtszJkzBz/72c+OSSXPOussvPjiiw05waeccso7SjB///vfj8HBQTzxxBPRbwcPHsSm\nTZtw/vnnj7mc008/HXv37o1mAwDYu3dvQ25voVDA0NBQw/nLly/HzJkz8Y1vfAMPPvhg0Ee7efPm\nCBDA23nSxWIRp556KhYsWIBSqYQdO3YE2ySbHXt4YMGCBcE85kqlglNPPXVM9fEybdo0nHTSSdi6\ndWuwfsViEaeffjpKpVJwQTAlqf2CcjTuEbJGb731ViuXyzGO/Mgjj1g2m7V7773XduzYYffff7/N\nmDEjZm3Sa6HywAMPNBgk69evt0wmE5H7DRs2WD6ft0996lP2wgsv2Pbt2+373/++feQjH7G+vj4z\nM3v22Wdt7ty5tmnTplHv53d+53dszpw5tnHjRnvhhRfs4osvtlNPPbXBI3A0OfPMM+2cc86�
       "text": [
        "<matplotlib.figure.Figure at 0x7f3a5a31f110>"
       ]
      },
      {
       "metadata": {},
       "output_type": "display_data",
       "png": "iVBORw0KGgoAAAANSUhEUgAAALIAAACeCAYAAACW5FAlAAAABHNCSVQICAgIfAhkiAAAAAlwSFlz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�
       "text": [
        "<matplotlib.figure.Figure at 0x7f3a5a2a0210>"
       ]
      },
      {
       "metadata": {},
       "output_type": "display_data",
       "png": "iVBORw0KGgoAAAANSUhEUgAAALIAAACeCAYAAACW5FAlAAAABHNCSVQICAgIfAhkiAAAAAlwSFlz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�
       "text": [
        "<matplotlib.figure.Figure at 0x7f3a5a202a10>"
       ]
      },
      {
       "metadata": {},
       "output_type": "display_data",
       "png": "iVBORw0KGgoAAAANSUhEUgAAALIAAACeCAYAAACW5FAlAAAABHNCSVQICAgIfAhkiAAAAAlwSFlz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�
       "text": [
        "<matplotlib.figure.Figure at 0x7f3a5a1833d0>"
       ]
      },
      {
       "metadata": {},
       "output_type": "display_data",
       "png": "iVBORw0KGgoAAAANSUhEUgAAALIAAACeCAYAAACW5FAlAAAABHNCSVQICAgIfAhkiAAAAAlwSFlz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�
       "text": [
        "<matplotlib.figure.Figure at 0x7f3a5a106210>"
       ]
      }
     ],
     "prompt_number": 27
    },
    {
     "cell_type": "heading",
     "level": 2,
     "metadata": {},
     "source": [
      "Initialize network"
     ]
    },
    {
     "cell_type": "code",
     "collapsed": false,
     "input": [
      "the_layers = [\n",
      "    ('input', layers.InputLayer),\n",
      "    ('hidden1', layers.DenseLayer),\n",
      "    ('hidden2', layers.DenseLayer),\n",
      "    ('output', layers.DenseLayer),\n",
      "]"
     ],
     "language": "python",
     "metadata": {},
     "outputs": [],
     "prompt_number": 15
    },
    {
     "cell_type": "code",
     "collapsed": false,
     "input": [
      "BATCHSIZE = 128"
     ],
     "language": "python",
     "metadata": {},
     "outputs": [],
     "prompt_number": 16
    },
    {
     "cell_type": "code",
     "collapsed": false,
     "input": [
      "(BATCHSIZE, X.shape[1] ** 2)"
     ],
     "language": "python",
     "metadata": {},
     "outputs": [
      {
       "metadata": {},
       "output_type": "pyout",
       "prompt_number": 17,
       "text": [
        "(128, 1024)"
       ]
      }
     ],
     "prompt_number": 17
    },
    {
     "cell_type": "heading",
     "level": 2,
     "metadata": {},
     "source": [
      "Train"
     ]
    },
    {
     "cell_type": "code",
     "collapsed": false,
     "input": [
      "%pylab qt"
     ],
     "language": "python",
     "metadata": {},
     "outputs": [
      {
       "output_type": "stream",
       "stream": "stdout",
       "text": [
        "Populating the interactive namespace from numpy and matplotlib\n"
       ]
      }
     ],
     "prompt_number": 196
    },
    {
     "cell_type": "code",
     "collapsed": false,
     "input": [
      "nn = NeuralNet(\n",
      "    layers=the_layers,\n",
      "    update_learning_rate=0.01,\n",
      "    update_momentum=0.9,\n",
      "    input_shape=(BATCHSIZE, X.shape[1] ** 2),\n",
      "    hidden1_num_units=100,\n",
      "    hidden2_num_units=100,\n",
      "    output_num_units=10,\n",
      "    output_nonlinearity=softmax,\n",
      "    max_epochs=25,\n",
      "    verbose=1,\n",
      "    # on_epoch_finished=PlotLoss(update_every=1),\n",
      "    on_epoch_finished=PlotWeights(nrows=10, ncols=10, figsize=(10, 10)),\n",
      ")"
     ],
     "language": "python",
     "metadata": {},
     "outputs": [],
     "prompt_number": 246
    },
    {
     "cell_type": "code",
     "collapsed": false,
     "input": [
      "nn.fit(X_flat, y)"
     ],
     "language": "python",
     "metadata": {},
     "outputs": [
      {
       "output_type": "stream",
       "stream": "stdout",
       "text": [
        "  InputLayer        \t(128, 1024)         \tproduces    1024 outputs\n",
        "  DenseLayer        \t(128, 100)          \tproduces     100 outputs\n",
        "  DenseLayer        \t(128, 100)          \tproduces     100 outputs\n",
        "  DenseLayer        \t(128, 10)           \tproduces      10 outputs\n",
        "Epoch   1 of 25\t(0.79 sec)"
       ]
      },
      {
       "output_type": "stream",
       "stream": "stdout",
       "text": [
        "\n",
        "  training loss:        2.302167\n",
        "  validation loss:      2.299315\n",
        "  validation accuracy:    12.98% !!!\n",
        "\n",
        "Epoch   2 of 25\t(0.70 sec)"
       ]
      },
      {
       "output_type": "stream",
       "stream": "stdout",
       "text": [
        "\n",
        "  training loss:        2.230229\n",
        "  validation loss:      2.148763\n",
        "  validation accuracy:    19.48% !!!\n",
        "\n",
        "Epoch   3 of 25\t(0.80 sec)"
       ]
      },
      {
       "output_type": "stream",
       "stream": "stdout",
       "text": [
        "\n",
        "  training loss:        2.127055\n",
        "  validation loss:      2.098346\n",
        "  validation accuracy:    22.74% !!!\n",
        "\n",
        "Epoch   4 of 25\t(0.64 sec)"
       ]
      },
      {
       "output_type": "stream",
       "stream": "stdout",
       "text": [
        "\n",
        "  training loss:        2.071698\n",
        "  validation loss:      2.044547\n",
        "  validation accuracy:    25.44% !!!\n",
        "\n",
        "Epoch   5 of 25\t(0.75 sec)"
       ]
      },
      {
       "output_type": "stream",
       "stream": "stdout",
       "text": [
        "\n",
        "  training loss:        2.015199\n",
        "  validation loss:      1.993883\n",
        "  validation accuracy:    27.97% !!!\n",
        "\n",
        "Epoch   6 of 25\t(0.79 sec)"
       ]
      },
      {
       "output_type": "stream",
       "stream": "stdout",
       "text": [
        "\n",
        "  training loss:        1.961832\n",
        "  validation loss:      1.943740\n",
        "  validation accuracy:    30.02% !!!\n",
        "\n",
        "Epoch   7 of 25\t(0.84 sec)"
       ]
      },
      {
       "output_type": "stream",
       "stream": "stdout",
       "text": [
        "\n",
        "  training loss:        1.913816\n",
        "  validation loss:      1.906252\n",
        "  validation accuracy:    31.11% !!!\n",
        "\n",
        "Epoch   8 of 25\t(0.72 sec)"
       ]
      },
      {
       "output_type": "stream",
       "stream": "stdout",
       "text": [
        "\n",
        "  training loss:        1.870362\n",
        "  validation loss:      1.872061\n",
        "  validation accuracy:    32.50% !!!\n",
        "\n",
        "Epoch   9 of 25\t(0.66 sec)"
       ]
      },
      {
       "output_type": "stream",
       "stream": "stdout",
       "text": [
        "\n",
        "  training loss:        1.835757\n",
        "  validation loss:      1.843751\n",
        "  validation accuracy:    33.70% !!!\n",
        "\n",
        "Epoch  10 of 25\t(0.74 sec)"
       ]
      },
      {
       "output_type": "stream",
       "stream": "stdout",
       "text": [
        "\n",
        "  training loss:        1.802412\n",
        "  validation loss:      1.813497\n",
        "  validation accuracy:    35.35% !!!\n",
        "\n",
        "Epoch  11 of 25\t(0.60 sec)"
       ]
      },
      {
       "output_type": "stream",
       "stream": "stdout",
       "text": [
        "\n",
        "  training loss:        1.774657\n",
        "  validation loss:      1.786940\n",
        "  validation accuracy:    36.46% !!!\n",
        "\n",
        "Epoch  12 of 25\t(0.68 sec)"
       ]
      },
      {
       "output_type": "stream",
       "stream": "stdout",
       "text": [
        "\n",
        "  training loss:        1.750126\n",
        "  validation loss:      1.781153\n",
        "  validation accuracy:    36.68% !!!\n",
        "\n",
        "Epoch  13 of 25\t(0.80 sec)"
       ]
      },
      {
       "output_type": "stream",
       "stream": "stdout",
       "text": [
        "\n",
        "  training loss:        1.727705\n",
        "  validation loss:      1.760960\n",
        "  validation accuracy:    37.77% !!!\n",
        "\n",
        "Epoch  14 of 25\t(0.81 sec)"
       ]
      },
      {
       "output_type": "stream",
       "stream": "stdout",
       "text": [
        "\n",
        "  training loss:        1.705605\n",
        "  validation loss:      1.752098\n",
        "  validation accuracy:    37.40% !!!\n",
        "\n",
        "Epoch  15 of 25\t(0.67 sec)"
       ]
      },
      {
       "output_type": "stream",
       "stream": "stdout",
       "text": [
        "\n",
        "  training loss:        1.685531\n",
        "  validation loss:      1.737130\n",
        "  validation accuracy:    38.36% !!!\n",
        "\n",
        "Epoch  16 of 25\t(0.62 sec)"
       ]
      },
      {
       "output_type": "stream",
       "stream": "stdout",
       "text": [
        "\n",
        "  training loss:        1.666428\n",
        "  validation loss:      1.729320\n",
        "  validation accuracy:    38.81% !!!\n",
        "\n",
        "Epoch  17 of 25\t(0.63 sec)"
       ]
      },
      {
       "output_type": "stream",
       "stream": "stdout",
       "text": [
        "\n",
        "  training loss:        1.648866\n",
        "  validation loss:      1.721465\n",
        "  validation accuracy:    39.46% !!!\n",
        "\n",
        "Epoch  18 of 25\t(0.70 sec)"
       ]
      },
      {
       "output_type": "stream",
       "stream": "stdout",
       "text": [
        "\n",
        "  training loss:        1.631441\n",
        "  validation loss:      1.709023\n",
        "  validation accuracy:    39.63% !!!\n",
        "\n",
        "Epoch  19 of 25\t(0.70 sec)"
       ]
      },
      {
       "output_type": "stream",
       "stream": "stdout",
       "text": [
        "\n",
        "  training loss:        1.615226\n",
        "  validation loss:      1.705288\n",
        "  validation accuracy:    40.08% !!!\n",
        "\n",
        "Epoch  20 of 25\t(0.65 sec)"
       ]
      },
      {
       "output_type": "stream",
       "stream": "stdout",
       "text": [
        "\n",
        "  training loss:        1.599098\n",
        "  validation loss:      1.701357\n",
        "  validation accuracy:    40.46% !!!\n",
        "\n",
        "Epoch  21 of 25\t(0.73 sec)"
       ]
      },
      {
       "output_type": "stream",
       "stream": "stdout",
       "text": [
        "\n",
        "  training loss:        1.584350\n",
        "  validation loss:      1.699831\n",
        "  validation accuracy:    40.61% !!!\n",
        "\n",
        "Epoch  22 of 25\t(0.63 sec)"
       ]
      },
      {
       "output_type": "stream",
       "stream": "stdout",
       "text": [
        "\n",
        "  training loss:        1.570925\n",
        "  validation loss:      1.685803\n",
        "  validation accuracy:    40.92% !!!\n",
        "\n",
        "Epoch  23 of 25\t(0.66 sec)"
       ]
      },
      {
       "output_type": "stream",
       "stream": "stdout",
       "text": [
        "\n",
        "  training loss:        1.557784\n",
        "  validation loss:      1.684829\n",
        "  validation accuracy:    41.20% !!!\n",
        "\n",
        "Epoch  24 of 25\t(0.59 sec)"
       ]
      },
      {
       "output_type": "stream",
       "stream": "stdout",
       "text": [
        "\n",
        "  training loss:        1.545644\n",
        "  validation loss:      1.680791\n",
        "  validation accuracy:    41.52% !!!\n",
        "\n",
        "Epoch  25 of 25\t(0.69 sec)"
       ]
      },
      {
       "output_type": "stream",
       "stream": "stdout",
       "text": [
        "\n",
        "  training loss:        1.533384\n",
        "  validation loss:      1.678793\n",
        "  validation accuracy:    41.49% !!!\n",
        "\n"
       ]
      },
      {
       "metadata": {},
       "output_type": "pyout",
       "prompt_number": 247,
       "text": [
        "NeuralNet(X_tensor_type=<function matrix at 0x7f3a697757d0>,\n",
        "     batch_iterator=<nolearn.nntools.BatchIterator object at 0x7f3a65a69990>,\n",
        "     eval_size=0.2, hidden1_num_units=100, hidden2_num_units=100,\n",
        "     input_shape=(128, 1024),\n",
        "     layers=[('input', <class 'nntools.layers.base.InputLayer'>), ('hidden1', <class 'nntools.layers.base.DenseLayer'>), ('hidden2', <class 'nntools.layers.base.DenseLayer'>), ('output', <class 'nntools.layers.base.DenseLayer'>)],\n",
        "     loss=<function negative_log_likelihood at 0x7f3a6703aa28>,\n",
        "     max_epochs=25, more_params={},\n",
        "     on_epoch_finished=<__main__.PlotWeights object at 0x7f39f1630c90>,\n",
        "     on_training_finished=None,\n",
        "     output_nonlinearity=<theano.tensor.nnet.nnet.Softmax object at 0x7f3a69459f10>,\n",
        "     output_num_units=10,\n",
        "     update=<function nesterov_momentum at 0x7f3a67034050>,\n",
        "     update_learning_rate=0.01, update_momentum=0.9, verbose=1)"
       ]
      }
     ],
     "prompt_number": 247
    },
    {
     "cell_type": "code",
     "collapsed": false,
     "input": [
      "plt.close()"
     ],
     "language": "python",
     "metadata": {},
     "outputs": [],
     "prompt_number": 248
    },
    {
     "cell_type": "heading",
     "level": 2,
     "metadata": {},
     "source": [
      "Analysis"
     ]
    },
    {
     "cell_type": "code",
     "collapsed": false,
     "input": [
      "preds = encoder.inverse_transform(nn.predict(X_flat))\n",
      "trues = list(df_labels.values.reshape(-1))"
     ],
     "language": "python",
     "metadata": {},
     "outputs": [],
     "prompt_number": 87
    },
    {
     "cell_type": "code",
     "collapsed": false,
     "input": [
      "%pylab inline"
     ],
     "language": "python",
     "metadata": {},
     "outputs": [
      {
       "output_type": "stream",
       "stream": "stdout",
       "text": [
        "Populating the interactive namespace from numpy and matplotlib\n"
       ]
      }
     ],
     "prompt_number": 175
    },
    {
     "cell_type": "code",
     "collapsed": false,
     "input": [
      "for i in range(10, 20):\n",
      "    plot_cifar(X[i], zip(preds, trues))\n",
      "    plt.show()"
     ],
     "language": "python",
     "metadata": {},
     "outputs": [
      {
       "metadata": {},
       "output_type": "display_data",
       "png": "iVBORw0KGgoAAAANSUhEUgAAAKQAAACOCAYAAAC/gqMRAAAABHNCSVQICAgIfAhkiAAAAAlwSFlz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�
       "text": [
        "<matplotlib.figure.Figure at 0x7f3a19909150>"
       ]
      },
      {
       "metadata": {},
       "output_type": "display_data",
       "png": "iVBORw0KGgoAAAANSUhEUgAAAK0AAACOCAYAAABDl4jbAAAABHNCSVQICAgIfAhkiAAAAAlwSFlz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�
       "text": [
        "<matplotlib.figure.Figure at 0x7f3a5170f750>"
       ]
      },
      {
       "metadata": {},
       "output_type": "display_data",
       "png": "iVBORw0KGgoAAAANSUhEUgAAALQAAACOCAYAAACYLCL5AAAABHNCSVQICAgIfAhkiAAAAAlwSFlz\nAAALEgAACxIB0t1+/AAAIABJREFUeJztXWmsbEtZXdVz9+k+9z7CIA74iEwKfwQh8sQnChgCChoT\nFfAHiYEIGExMTAwaMUHQEJlMVEQBgybGOIQE58fLM4wRJYBheAljQsDHu+9MPZ+etj92rzprf117\nd/e599xT99Jf0jmnd+9du3bVqq/WN1RtlyQJdrKT20VKl12BnezkRsoO0Du5rWQH6J3cVrID9E5u\nK9kBeie3lewAvZPbSqIDtHPuTufcwjl312XXpUiccy93zk0vux4XKct+eOll12MbiQ7Q5xXn3Jec\nc6+/7HpsK7dqvWOVCwG0c652EeWukY0iRM65ykVXZEu5Vet9bnHOVS+s8CRJCj8A/hPAuwH8AYBr\nAE4A/BmAujnnLwC8AcD/Afjm8vjjAPwDgCMAhwD+HcBTTPk/D+BLAEYAPgrgRQAWAO5aVzdz/4V8\n5gAeA+DZy+8vAPCR5T1+BcDLAUxNGd+9PPduOfZ9AP4ewAGAAYDPAHjh8rdMGQAaAP4RwP8CePQl\n13ttu29YvwWAVwH4KwBdAF8H8JvmnM4SDw8CGAP4bwDPk9/vXJbzUgD/AqAP4PcBVAC8dVnmGMA3\nAfyNKfsXAXx6+fxfBfAWAK3COm/Y6ATxEwH8FIBvAXirOacL4E8APAnAkwE8CsADAP54+f3xAP4I\nwEMAHr687gcBzAC8cfn7zy4rngE0gK8BeG9BHe8A8BUAbwbwyOWnJMD4AoAXAvheAN+1CTAAfMfy\nOf8DwF3LjnkhgOdbQC/v/xEA9wHY3wIwF1Hvte0uYH39BoB+AMAvA3gsgFcvj/2EnPN3y2d43hIf\nbwdwCuCJBtBfB/CS5bPcCeDXl8fuXj7DDwF4rZT7cqSD8WXL838UqUJ5340A9FcAODn2CqSjpinn\n3G+u+10AHzfHHFJt/GvL738N4MPmnNdgFdAfBPDGNfX8IoDfMccIjJeZ45sA4w1ItUYz534vBzBd\nXvc5pJq8timYL7Dea9t9eewLAF69AaDfbo59HsCblv8/bnnO8805nwTwbgPo3zLnvB3AvQX3/hqA\nV5pjdy/LupJ33aa87BPJssSlfAxAHemU/NnlsU+aa54O4GnOuZ453lg2BAD8AIB7zO8ftTdPkuS5\nG9YzTz5xjmueBuBjSZKMCs4pAfg4gI8kSfKSc9WsWM5T703aHUmSfP+G5X3afP8m0pkESPsPAD5k\nzvkQgGeaY/ZZ3gvgHufcl5Bi4B4AH0iSZOqcewRS6vU259xb5BqH1OZ4HFbxBgAbA9qt+T1ByjHt\nNR8E8KuB80/kunVl3wixdVsEzrGGyiZ1WwD4AICfc849JUmSz645f1s5T703afdtZBI4ts6ZEGq3\nzLMkSfIZ59xjkVKVHwfwDgBvcM79sJT/WqQ0zso38m68KaCf7pwrJUnCBr0LKU/6csE1/4N0ivxG\nkiSnOed8flmWyo9sWCcrEwDlDc99EEDZOffIJEkeXB57qjnnkwBe4ZxrJUkyzCsoSZJXO+dmAO5z\nzj03SZLPXHK9N2n36xGdqT+3/PtjAP5Vjt+NHA2aKShJBgDeD+D9zrk3IXUo3J0kyT87574O4ElJ\nkrx7u9ptxqFPAPwpUoPvhcsbv82c8+fmukciHUn/BuBZSLnUs5AagM9cnvNUpJb97wF4AlKj8MtY\n5dD3YsnbCur5T8vzvgfAw5FqiWcvy/pOc+4dy2d6D1Kj6flIDY6QUXgP0kH3WKQG8YpRuPz+h0i9\nIU/bkkPf6HqvbfflefcDeM0GHPql5tgHIQY6gL9Fasj/5BIf70DqtXiC4dB3mXJ+A6nn48nLtn0d\n0sH9+OXvv4RUab4OwFOQGpw/A+CdhXXeoMHvQ+qSezNSS7kL4F3Iuu3uA/CuwLWPQWr40aXzNQDv\nA/C9cs4vIDVYxkj56IuQglwB/VUA71lTz6ch1QpDZN1fcwuM5fkvQDpDDAF8eNkhc2TdX49H6oo7\nRjplfgpZQE9MmW9C6ip7xvL7XwL46iXUe5N2X8AYoxsC+h7tC6Ruu3fKvT4B4Lny+522P5fHX4l0\nNjkB0APwXwB+2pzzYqT22mB53qcA/HZRnd3ywlxxzt0H4ItJkryy8MSdrIhz7kMAPpckyasuuy7f\nLrIJh3a4OYbbbSXOuTuQavgXX3Zdvp1kE0An2DA8u5MzSZLkCMCjL7se326ylnLsZCe3ktw22XY7\n2QmwuR/6psi99967my5uYXnOc55z6bZWVIAGgGc84xl5LiQ45zJ/10ne+ZZm2e+bln8jZVvqd5FU\nkWWH/uZ97r///gurzzYSHaCLwKS/bQK6vHP0eJIkwfNuJqjz6nCjzr8oidH+uiUAbY9tq6FvRB0u\nUpxzUYIjr152xoxJbglAn+ecTc6NQTvrPTcF9c0eAPZ+MQKZEh2ggbMGvFFgC12zbtq+rE7Le/br\nAfv1lmnPZzmxUB+V6ACtjR9qsBvVgDF1hDVe8wZySEuG2uq8iiCPSuQBv0jxXJZECWiV83o4bmWx\nQCkCmrZL3nW27JBYYOZ5gvI8T7FIdIC2sq1n41aVopkoD2jrNPG69sqjDqr19dzYtHFIogP0pp1A\nKfIhF3HEdfe52UbXjT53EyMupGVDYM6LC8QotwSgi6a3izLsYtdE62Rbb5G2cQjMi8UCi8UiajAD\ntwCgL2Ka25SPF3Ve7B27rYR4d55WjvnZowM0ZZ1xaH8rck3leQFoSIXKK5KbzSU3eb4bfT/9X7W0\nDYcDcc1m0QE6ZNlv6jMuoiTr8jqKPAPr6njRso077jyBJP2dZShwSTfm8/mKto4JzECEgKZctPP+\neoyb2F2I28xuRe2smnk+n/uPllcqlaJqhygBfZGh3Ty6sW0ULUZOmQesTdpznXdIKYf1de8AXSB5\nEbGLuE9R+etoxTqQnCfMfCOetUg75wVPQrRFn18pB0HNc8rlcjQDGogQ0CrbaurzACKv/G009CZ1\n2HYAXLTWC80weQZyiHKQbtiyLluiA3TR1Lfpb5uUfx6XXd7McT2JQ0V1vF5Z9wz2fqqZF4tFRksX\nBVV2lKNAtgXmNhxOO6woemanXL0+r0O3BU9RHS9CNuHQRRFC1dIAvHYulUo7DX0jZdsBQFEDx4JW\nP5TzGIHbavGb7dvOO25BPJvNMJ1OMZ1OMZvNAADlchmVSgWlUsmDOwaJDtAXnS+gBg4/BDc7p1wu\n+//PE1rfNkR/vVLEge15RYOUGppttFgsMJvNMJlMcHp6itPTU0ynU28M1mq13ODUZUl0gD4PN7XX\n6oCw2jZJEsznc99Jk8kko3Wq1ar/UANZqrJNpPGip+PzGs2suw5a9YQoh1ZgT6fpi7+q1SrK5XTT\nVP6NQaID9I2QvE5mx4zHYwwGA/T7fQyHQ0wmEyRJgmq1ikaj4T/1ej2jrUMf5Z72L7CdZr5e8FsN\nHOL22ygMDv7pdIrT01MMh0OcnqY79NZq6XuhqtWq/z8GiQ7Q6yxqlU18xdqBi8UCp6enGAwGODw8\nxOHhIbrdLkajERaLBWq1Gvb29rC3t4dWq4Vms4larYZKpYJyuex5IzU4v1tfrA0+bCrnCalvYmTa\nQaZ1tLOZpRyczUajEfr9PkajEZIkQaPR8EpgB+gCCWmQTbQdOXCRZyFJEkynU4xGI3S7XTz00EM4\nODhAv9/HbDZDvV5Hp9NBu91Gp9PB3t4e6vW67zT+bTQafgBwurVUhFO2Aor/r6Mk2wJ7U8+J1oOA\nDdE0+zxJkmA2m3ktTaCXy2W0Wi1PQ2KQaAEd0irblhPS0NPpFMPhEMfHx3jwwQfxrW99C8fHx5hO\np6jVatjf30e73caVK1fQ6XTQaDQ8iOv1OprNJlqtFvb29tBsNr3mtoEG6y0piuDpd/sM27j+LN2w\n9wvZExrSzmtDttt4PPaDX6nHTkMXSIhqbDqtFp2rxuBoNEKv18PR0RGuXbuGw8NDjMdjVKtVdLtd\ntNttdLtdD2gCmWDudDremCTHJvXQ++n/anzZmaeoLULPWnR+3sCx17M9qH1ns1nGUFQ6QtcdbY/J\nZILxeIwkSfxzV6sX9y7NbSQ6QNPjsKlYMFvvBoCVjmGH0DDsdrsYDoeoVCqeY/O3er2OWq3mAb23\nt4crV654DwmNw3q97v+33HSxWGTArlP9trKOm7PsokFDEHNQWnccvTvq2qRhOBqNMB6PUSqV/HMl\nSYJHPzqOnYOjA7Ryzzxto52qwCmatkOBEgU5gwacYjkV0yhsNBpoNpsYjUaYTqe+TGrwUqmUy6lD\n9z+vwbjptSG+DpxF9mazmZ+x6L1wzqFaraJer6NSqfi6kzNPp1OvDCiVSmUH6CIZj8cZ70HILQZk\nQZ1nyVtRzmgteYL59PTUA5qGT7lcRr1e99Tj9PTUay7+vlgsMuHg0L3t/5uC+noGAu9nB/N8Pvec\nmDOUcw61Wg2tVsu7LKmRR6MRRqORn72SJMFkMsF8Pvd8OgaJDtCDwcAbGtR4Cmorm4BYAUrNpGmQ\nBCXLoxGkM4VGy8g95/O558az2czfq16vwzmHSqWy1rOxidG7CaD1Pnb2sgET0ozBYIDj42McHh6i\n3+/DOYd6vY52u41ms4lKpYLBYIBut4t+v49+v58BNNtiB+gC6fV63seZlycQ6mB7TDtVp0zyRYKS\nVIH35FSrri0AGRrC8DivB4DJZOLPb7fbGU5N0RmCUz/Lz5NN6UURoDnoOHjo6VHDuNvtekAPh0O0\nWi1Uq1UMh0McHR3h5OTEB6Lot69UKt63H4tEB+jBIH3haK1WW3E1sfOt4aegZscRSHoNrXk�
       "text": [
        "<matplotlib.figure.Figure at 0x7f3a516256d0>"
       ]
      },
      {
       "metadata": {},
       "output_type": "display_data",
       "png": "iVBORw0KGgoAAAANSUhEUgAAAJ0AAACOCAYAAAArZArjAAAABHNCSVQICAgIfAhkiAAAAAlwSFlz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�
       "text": [
        "<matplotlib.figure.Figure at 0x7f3a515a6490>"
       ]
      },
      {
       "metadata": {},
       "output_type": "display_data",
       "png": "iVBORw0KGgoAAAANSUhEUgAAAMcAAACOCAYAAACFUhxiAAAABHNCSVQICAgIfAhkiAAAAAlwSFlz\nAAALEgAACxIB0t1+/AAAIABJREFUeJztfXuwfNlV1rf6/b5978wkI+YxVpBKNEoSHWJijJEklVRR\nkhCRyAQsowWWEcRSqRKNBhCQ4lmoUEqQBAQ0f8QHQkqZJJOKBOSREqsEAoGZECaZ/OY399Hv5+3j\nH93f7u+su0/fOxN+d+4hvaq6uvs89zlnfXt967H3sSRJsJe97OWiFJ7uBuxlLzdV9uDYy14yZA+O\nvewlQ/bg2MteMmQPjr3sJUP24NjLXjLkxoHDzO4zs5WZvfwOHHtlZg/ctGPt5c6KmX3IzN75ZPe7\nceC4w3IvgPc+3Y2402Jmz9qA95VPd1u8mNkrNm17zjWeNtl8npTcEXCYWeVOHPezlSRJHk+SZJa1\n/qa2+7MQ27nSrGBmT1cHeVnbytfVkCy59MZsTNK/N7PvNLPbZtYzs39nZlW3zY+Y2b8ws8cAfGKz\n/PPN7L1mdmpmJ2b2P83she74X2Fmv2NmEzP7CIA//VQuxMweMLNfMrOzTTt/xsz+uNtmZWZvcf+/\n3sx+yszOAPyYmT2X25nZB8xsbGa/a2ZvvuT832Bm/8fMBmb2mJn9RzO7V9a/anPc15jZh81sZGa/\nbmavd8d5ppm928weN7O+mf28mf2FJ3k7Prn5fmhzzoc3x/5mM/v45p5/DMAMwBdszvega8dXmdnK\nLXutmX1kc08eNbMfNbOjqzbKzO4D8OHN30c2bfvgZt27zezBzfP4BICJmdVilMjM3m5mj7hlbzaz\nj2706Akze5+ZdTPa8SIz+7SZffeu9l611/hyAIcAXgHgLQDeCOBfum2+AsBdAP4SgNea2TMB/DyA\nz2z2eymA3wLwITO7e9PIFwP4KQDvwRoU3wPgByIX8wkze9clbawA+FYALwbwGgDnAH420gN58/qO\nTTtfDODt2PZo3wXgRwB84aaNP2lmL9px/gTAPwTwQgBfBuA5AP5TZLvvAfBtWF/vLwF4Dx+imdUB\nPASgCeD1AF4E4H0AHjSz5+84t5eXbL7fhDWVvF/WfR6AvwPgqwG8AMCjuALtMLMvBvBfsb4Xfwpr\nHbgPwH+WbdgBZNG5TwJ4w+b3/Zu2vUnWfxGAVwH4y1jf9/kV2/ZWAP9h05YXA/iLAH4WQDGy7aux\nvsffnSTJN+46LpIk2fkB8CEADwMwWfY1ACYA6rLNx9x+3wzgF90yA/A7AL5h8/8nAPwvt83fBbAC\n8HJZ9n4A335ZW91xjjbHeZksWwF4wP1/p9vvvs3yb3HLPwLgx7OOFTn/izfb/JHN/1dt/r9RtnnG\nZtlrN///BoDfB1B0x/oAgO9/Etf+rM1xXxl5JucAnuWWvxvAg27ZVwFYOT34DrfNczbn+cLN//sB\n/AaAP7ujba/Y7POcSBtOADTc8ocA/LBb9nYAj8j/TwL4VzvO+RCAdwJ4AMAAwFde5T6WcDX55SRd\nofgLAKoAngfg/22WfdTtcz+AP2NmA7e8BuDzN7//BIAH3fqP+JMnSfKayxq46dXfgXWPcze2FuC5\nAH5xx66/nLHc7/MRAK/ecf5XAfgmrHvjLrZW+bkAHpNNf40/kiR53MzOATxzs4i96ZlZipJXAYx3\nXMOTkVtJkjz6FPa7H8BLzezr3fIE6+f5f5Mk+RWsn+lTld9MkuRJXaeZPQPrzuDndm2GtSV+K4Av\nTZLkfVc59lXBsdN5wvoGjSL7vB/A10W278l+lx37UjGzBtY358NY9763Nsf9dazp1i7x7c48zY7z\nPwdr+vNjWPfOTwB4NtbX788/jxyiIN+/iTVl8fIHBY7Y9a5w8fo8HTUA34k1ffFy6w+gXUD8Gq/S\ntsskwboTnwD4WjN7MEmSxWU7XRUc95tZIUkSOmgvx9qZ+90d+/wq1or6qSQ7QvQbm2Op/Pkrtknl\nBVhbi3+aJMlvAYCt8ySfDfBeBuB/yP+XYw22mNyPtUX8+7xWM7s/Y9td8itY+wKDJEluP4X9KQTg\nBc6dIbcA/Dm37CXu/68CeGGSJA9/Fu0CnnzbHgfwR92yl2Djh2ys76MAXgfgZ3Yc5/cB/C0AHwTw\nX8zsTUmSxDqqIFd1yO8C8INm9nwz+xKsHd9/myTJZLPecFER/w3WN+C/2Tq2fd/m+9vN7GWbbb4f\nwMvM7NvM7AvM7MsA/AN/8k3U6Dt2tO/3sAbr3zOz522crh/AU4hti/xNM/vKTbu+FWvl+b6MbT++\nOdc/MrM/ZmZvBPDPnsI5fxLAI1gHEl67uWcvNbNvMrM3XLazyBMAhgBeZ2b3mtnhJdu/H8Dzzext\nm/v3NQD+qtvmnwN4g5l97yba8zwze72to5Q1ADCzLzKzj13SMfwe1tbgS8zsGWbWuULbXmNmX27r\n6Oc/xtpvUX37FgB/exPFeoGZ/Ukz+zozu2uz3rD2mT+NtbN+H4CfZrsz5QrO3UNYR22+C+ub3gfw\nwwCqu5wmcdh+Amv0T7EO8f44gOfKNm/G2kmfYs3zvxRrp1Ed8kcA/Ogl7fwrAH4ba9P5UQCvBLAA\n8NcvccgfcMe5b7P8LZvrmmBtIf+a284f621YO4ZjrOnd6zbX8UpxyM8BfJ47jm/jEYAfwjqKNNt8\nvxcbp3ezzScAvOuS+/HVWAdSFgAe3ix7B4Dfztj+n2zONcAapG8DcB5xph/c6MAQa8v/fdgEEOQa\nX3lJ275xc64lgA9ulr0LwM9Fti1h3YneAnAK4F9jDYaH3XYPYO3PTbHW0/8OoBPTT6xZxq9trqWe\n1U5L+9kXxcweAvDxJEm+dueGf0hkE4t/GMArkiT5hae3NRdl4189AeCtSZK85+luzx9muQqtilGm\nvTx98hoA/3sPjDsvVwHHU6pLybnc2OtNkuSnkyT54qe7HZ8Lcimt2stePlflc60qdy97ubJcNc9x\nY+QDH/jA3tTlXF796lfnwofNHTgA4JFH1gWZpIS7qKGZwZViZG7HY52fn2O1WmG1Wq1DemaoVCqo\nVCoolUooFNYGdzabYTAYoNfr4fT0FL1eD6PRCNPpFMvlEmaGUqmEYrGIUqmEcrmMQqGAQqGAYrGI\nQqEQ2mdmWK1WKBaLKJfLKJfLaDabaLfbaLVaaDQaaDQaqFarYRseQ9t/fn5+4br12ij6W++Pv1f+\nHuv3jlDthePxu1i8au7v6ZdcgkPlKj7TVcGjiuqVwMywWCwwm82wWCwwn88xGo0wGAwwGAzQ7/dT\nwKCSEkyFQgGlUikcX5WEy87PzwOgSqUS6vU62u02Op0OWq0WOp0OOp0OarVaOJ6CQ8Ecu+6YAvNa\nFRT+2v2y2PH8+hg4r9JJ3STJPTgukxgw9AHGZLVapbY9Pz/HcrnEYrHAZDLBeDzGeDzGcDjEYDAI\nywgMWh0zS1kH/gaAQqGQAp6ZYblcAkCwCNVqFc1mE51OB+12G+PxGIvFAu12O2p99Pjafl4vwePB\nEVPeLIsQA9xl91mlUsnPeLLcg0N7eV3mf8doBJVJFWC1WuH8/Dz1e7FYYLlcYjKZYDgcYjgcBqsx\nHo8xn8+DRSGw+M2e3beLbVKg0tpwn1KphFqthsFggFarlTqXXo+na3pfaI1iSh67d9quXVYhSxSI\n/K+g3IPjaZQsE670IbYNAUELodZiNpthPp8HazEcDoP1mE6nWK1WYR9PSbyF4Dpg25OzLdyf+5gZ\nptMp5vM5JpNJAB8tDI9Xr9cDMGhBePzLFNkDJMunuIpoB6Odi/pwnc5lpVQ3R3IJjsu46671Meqw\nXC4xn8+xXC4xm81SfsVsNgsKOh6PMZlMgqLOZrNUb6+Kpvw/pmBZCsftVcGSJAnnIhCpbKvVCu12\nG6vVCrVaLRxDP7Hjx9q1y+nOErUQbB8BsVwuw4fL7r333sxj3TTJLTj0AcecSf/bCxWLwJhMJuGb\nv6fTafgsFovwvVwuw7HVKeY5Van9cv6O8X/dh8pEpSMIuU7bz3a1Wi2USiVUq1WUSqVwriyAxMS3\ncxd42Aa2iSCgxdWPBinyIrkEBxCnSX6dX6+UhQ9xNpthPB6HSNNoNMJ4PA4Wg0DhAydVKRaL4cMo\nFM9x2UeBkQUOWiJVvtlsFugXPwTtfD7HfD5HvV7HarUKIV/eD6Vdap3YZg9mpZ6xNio4ac34YVv4\new+OaxRvMWKWQ9cpBwe2ikYwDAYDDIdDTCaTAA61HBqBKhQKIQ+hHx+/jwFCcyc+Iub3IXi5z2Kx\nCMsnk0k4BgMFpIPtdhuLxQLNZhOVSiW0t1Ao4Pz8/EnnGRTA6j+QLs3n83A/CQr+9pZDrzkPkltw\nxESthYJELQmtxWg0wnA4RL/fR7/fD+Cg1VC6wogPgGAlisUiKpUKqtUqKpVKKqyqomBQZY/RHQ8O\npU9K53gd4/E4hIDVErLHrtfrAbylUglJkqTa6YMEMRqo0TsNVmiggtaL5+Zy9Tm8ZcqD5BYc+lD5\nmz2TrmdPSYVj8q7f72MwGODs7Az9fj9EngiI1WoVekXSMVITZrvL5TKq1Wr4zW30/FSKmKLEnOYs\n6qUA4G9SrMlkEiie96WY2S+X18OumbHflbFWn0ItGBVfAxfqj3kqFas0yJPkFhyx/7H8Bb9pCcbj\nMc7OzkK5R6/XC4k8PliGSqkUmtHW3k8z3x4g3F57fn4IOFI+zXLHQqgEgSo9j1MoFLBarYI1ZBup\nwLRsbBvBwXvEgILSTwWoRvJINTWKp3SKnUksrB17bjddcgkOYHfyzzudzGyz1OPk5ATHx8epsg99\nsFRctRqqPOrglstlVCoV1Gq1FL1i76zh1/l8jmKxGAWHRryUm3srSetHhWWvTKvBkDMBwvY�
       "text": [
        "<matplotlib.figure.Figure at 0x7f3a51528250>"
       ]
      },
      {
       "metadata": {},
       "output_type": "display_data",
       "png": "iVBORw0KGgoAAAANSUhEUgAAAKoAAACOCAYAAAChS5OiAAAABHNCSVQICAgIfAhkiAAAAAlwSFlz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�
       "text": [
        "<matplotlib.figure.Figure at 0x7f3a51922fd0>"
       ]
      },
      {
       "metadata": {},
       "output_type": "display_data",
       "png": "iVBORw0KGgoAAAANSUhEUgAAALEAAACOCAYAAAB+Bem9AAAABHNCSVQICAgIfAhkiAAAAAlwSFlz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�
       "text": [
        "<matplotlib.figure.Figure at 0x7f3a519a4d90>"
       ]
      },
      {
       "metadata": {},
       "output_type": "display_data",
       "png": "iVBORw0KGgoAAAANSUhEUgAAAJkAAACOCAYAAAAij6qZAAAABHNCSVQICAgIfAhkiAAAAAlwSFlz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�
       "text": [
        "<matplotlib.figure.Figure at 0x7f3a513a6b50>"
       ]
      },
      {
       "metadata": {},
       "output_type": "display_data",
       "png": "iVBORw0KGgoAAAANSUhEUgAAAKcAAACOCAYAAABUtRgSAAAABHNCSVQICAgIfAhkiAAAAAlwSFlz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�
       "text": [
        "<matplotlib.figure.Figure at 0x7f3a51329910>"
       ]
      },
      {
       "metadata": {},
       "output_type": "display_data",
       "png": "iVBORw0KGgoAAAANSUhEUgAAAJkAAACOCAYAAAAij6qZAAAABHNCSVQICAgIfAhkiAAAAAlwSFlz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�
       "text": [
        "<matplotlib.figure.Figure at 0x7f3a512ac6d0>"
       ]
      }
     ],
     "prompt_number": 88
    },
    {
     "cell_type": "code",
     "collapsed": false,
     "input": [],
     "language": "python",
     "metadata": {},
     "outputs": []
    }
   ],
   "metadata": {}
  }
 ]
}